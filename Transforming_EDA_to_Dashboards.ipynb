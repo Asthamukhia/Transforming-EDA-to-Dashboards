{
  "nbformat": 4,
  "nbformat_minor": 0,
  "metadata": {
    "colab": {
      "provenance": [],
      "authorship_tag": "ABX9TyPgVUys26oXWz7nPZBKWYM1",
      "include_colab_link": true
    },
    "kernelspec": {
      "name": "python3",
      "display_name": "Python 3"
    },
    "language_info": {
      "name": "python"
    }
  },
  "cells": [
    {
      "cell_type": "markdown",
      "metadata": {
        "id": "view-in-github",
        "colab_type": "text"
      },
      "source": [
        "<a href=\"https://colab.research.google.com/github/Asthamukhia/Transforming-EDA-to-Dashboards/blob/main/Transforming_EDA_to_Dashboards.ipynb\" target=\"_parent\"><img src=\"https://colab.research.google.com/assets/colab-badge.svg\" alt=\"Open In Colab\"/></a>"
      ]
    },
    {
      "cell_type": "markdown",
      "source": [
        "# **Project Name - TELECOM CHURN ANALYSIS**\n",
        "## **Project Type - Transforming EDA to Dashboards**\n",
        "\n",
        "\n",
        "## **Contribution - Individual**\n",
        "\n",
        "## **Member - Astha Mukhia**"
      ],
      "metadata": {
        "id": "nA-QY0-5PsrX"
      }
    },
    {
      "cell_type": "markdown",
      "source": [
        "# **GitHub Link -**"
      ],
      "metadata": {
        "id": "Dnjzb_mIQGe-"
      }
    },
    {
      "cell_type": "markdown",
      "source": [
        "# **Project Summary -**"
      ],
      "metadata": {
        "id": "5Zvts3OSQRpc"
      }
    },
    {
      "cell_type": "markdown",
      "source": [
        "### **In this project, we're analyzing data from a telecommunication company to understand why customers are leaving their services. we have a total of 3333 customers, and out of those 483 customers have decided to stop using the company's services. On average, this means that about 14.34% of customers have churned. Each Customer spend around  ₹59.45 per month for their telecommunications services. Overall, the company has generated a total of ₹198,146.63 in charges for services like phone calls and internet.**\n",
        "\n",
        "### **We're diving deep into this data to figure out why customers are leaving and what it mean for the company's finances. We want to find patterns and insights that can help the company improve customer retention and reduce churn. By understanding the reasons behind customer departures, we can make recommendations to keep more customer satisfied and loyal to the company.**"
      ],
      "metadata": {
        "id": "3_UmTvZsQek0"
      }
    },
    {
      "cell_type": "markdown",
      "source": [
        "# **Tableau Dashboard link -**"
      ],
      "metadata": {
        "id": "_WGfrcC4OSS4"
      }
    },
    {
      "cell_type": "markdown",
      "source": [
        "https://public.tableau.com/app/profile/astha.mukhia/viz/Telecomchurnanalysis_17102704853300/Dashboard1)"
      ],
      "metadata": {
        "id": "9dh4N1IA2Aki"
      }
    },
    {
      "cell_type": "markdown",
      "source": [
        " # **Conclusion**"
      ],
      "metadata": {
        "id": "UK7-F1U6Nb61"
      }
    },
    {
      "cell_type": "markdown",
      "source": [
        "The telecommunications market is already well-established, and the rate of new customers is slow. As a result, companies in this industry prioritize retention and reducing customer churn. This project analyzed a churn dataset to identify the main factors contributing to churn and gain valuable insights. Through exploratory data analysis, we were able to gain insight into the churn dataset, listed below:\n",
        "\n",
        "\n",
        "1. The four charge fields are directly related to the minute fields.\n",
        "\n",
        "2. The area code may not be relevant and can be excluded.\n",
        "\n",
        "3. Customers with the International Plan tend to churn more often.\n",
        "\n",
        "4. Customers who have had four or more customer service calls churn significantly more than other customers.\n",
        "\n",
        "5. Customers with high day and evening minute usage tend to churn at a higher rate.\n",
        "\n",
        "6. There is no clear relationship between churn and the variables such as day calls, evening calls, night calls, international calls, night minutes, international minutes, account length, or voice mail messages."
      ],
      "metadata": {
        "id": "pmp9O_NlM0hX"
      }
    }
  ]
}